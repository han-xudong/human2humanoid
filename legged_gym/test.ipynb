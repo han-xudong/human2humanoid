{
 "cells": [
  {
   "cell_type": "code",
   "execution_count": 2,
   "id": "9c00ba00",
   "metadata": {},
   "outputs": [
    {
     "name": "stdout",
     "output_type": "stream",
     "text": [
      "Loaded 29 motions from resources/motions/h1/stable_punch.pkl\n",
      "Motion 0: 0-KIT_572_punch_right01_poses\n",
      "Motion 1: 0-ACCAD_Male2MartialArtsPunches_c3d_E16 - body jab left_poses\n",
      "Motion 2: 0-ACCAD_Male2MartialArtsPunches_c3d_E6 -  hook right_poses\n",
      "Motion 3: 0-KIT_572_punch_right04_poses\n",
      "Motion 4: 0-ACCAD_Male2MartialArtsPunches_c3d_E9 - body hook left_poses\n",
      "Motion 5: 0-ACCAD_Male2MartialArtsPunches_c3d_E14 - body cross left t2_poses\n",
      "Motion 6: 0-ACCAD_Male2MartialArtsPunches_c3d_E14 - body cross right_poses\n",
      "Motion 7: 0-ACCAD_Male2MartialArtsPunches_c3d_E11 - body hook right t2_poses\n",
      "Motion 8: 0-KIT_291_punching03_poses\n",
      "Motion 9: 0-KIT_3_punch_left04_poses\n",
      "Motion 10: 0-KIT_572_punch_right02_poses\n",
      "Motion 11: 0-ACCAD_Male2MartialArtsPunches_c3d_E2 -  Jab right_poses\n",
      "Motion 12: 0-ACCAD_Male2MartialArtsPunches_c3d_E10 - body hook right_poses\n",
      "Motion 13: 0-ACCAD_Male2MartialArtsPunches_c3d_E8 - uppercut right_poses\n",
      "Motion 14: 0-KIT_442_Punch01_poses\n",
      "Motion 15: 0-KIT_572_punch_left05_poses\n",
      "Motion 16: 0-ACCAD_Male2MartialArtsPunches_c3d_E12 - backfist right_poses\n",
      "Motion 17: 0-ACCAD_Male2MartialArtsPunches_c3d_E5 -  hook left_poses\n",
      "Motion 18: 0-ACCAD_Male2MartialArtsPunches_c3d_E4 -  cross right_poses\n",
      "Motion 19: 0-KIT_572_punch_right03_poses\n",
      "Motion 20: 0-ACCAD_Male2MartialArtsPunches_c3d_E7 - uppercut left_poses\n",
      "Motion 21: 0-KIT_572_punch_right05_poses\n",
      "Motion 22: 0-ACCAD_Male2MartialArtsPunches_c3d_E3 -  cross left_poses\n",
      "Motion 23: 0-KIT_572_punch_left04_poses\n",
      "Motion 24: 0-KIT_572_punch_left02_poses\n",
      "Motion 25: 0-KIT_572_punch_left01_poses\n",
      "Motion 26: 0-ACCAD_Male2MartialArtsPunches_c3d_E1 -  Jab left_poses\n",
      "Motion 27: 0-ACCAD_Male2MartialArtsPunches_c3d_E11 - backfist left_poses\n",
      "Motion 28: 0-KIT_3_punch_right01_poses\n"
     ]
    }
   ],
   "source": [
    "import joblib\n",
    "\n",
    "motion_file_path = \"resources/motions/h1/stable_punch.pkl\"\n",
    "motions = joblib.load(motion_file_path)\n",
    "\n",
    "print(f\"Loaded {len(motions)} motions from {motion_file_path}\")\n",
    "for i, motion in enumerate(motions):\n",
    "    print(f\"Motion {i}: {motion}\")"
   ]
  }
 ],
 "metadata": {
  "kernelspec": {
   "display_name": "omnih2o",
   "language": "python",
   "name": "python3"
  },
  "language_info": {
   "codemirror_mode": {
    "name": "ipython",
    "version": 3
   },
   "file_extension": ".py",
   "mimetype": "text/x-python",
   "name": "python",
   "nbconvert_exporter": "python",
   "pygments_lexer": "ipython3",
   "version": "3.8.20"
  }
 },
 "nbformat": 4,
 "nbformat_minor": 5
}
