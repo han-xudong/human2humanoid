{
 "cells": [
  {
   "cell_type": "code",
   "execution_count": 2,
   "id": "555b11e7",
   "metadata": {},
   "outputs": [
    {
     "name": "stdout",
     "output_type": "stream",
     "text": [
      "torch.Size([1, 50])\n",
      "tensor([[[0., 0., 0.],\n",
      "         [0., 0., 0.],\n",
      "         [0., 0., 0.],\n",
      "         [0., 0., 0.],\n",
      "         [0., 0., 0.],\n",
      "         [0., 0., 0.],\n",
      "         [0., 0., 0.],\n",
      "         [0., 0., 0.],\n",
      "         [0., 0., 0.],\n",
      "         [0., 0., 0.],\n",
      "         [0., 0., 0.],\n",
      "         [0., 0., 0.],\n",
      "         [0., 0., 0.],\n",
      "         [0., 0., 0.],\n",
      "         [0., 0., 0.],\n",
      "         [0., 0., 0.],\n",
      "         [0., 0., 0.],\n",
      "         [0., 0., 0.],\n",
      "         [0., 0., 0.],\n",
      "         [0., 0., 0.],\n",
      "         [0., 0., 0.],\n",
      "         [0., 0., 0.],\n",
      "         [0., 0., 0.],\n",
      "         [0., 0., 0.],\n",
      "         [0., 0., 0.],\n",
      "         [0., 0., 0.],\n",
      "         [0., 0., 0.],\n",
      "         [0., 0., 0.],\n",
      "         [0., 0., 0.],\n",
      "         [0., 0., 0.],\n",
      "         [0., 0., 0.],\n",
      "         [0., 0., 0.],\n",
      "         [0., 0., 0.],\n",
      "         [0., 0., 0.],\n",
      "         [0., 0., 0.],\n",
      "         [0., 0., 0.],\n",
      "         [0., 0., 0.],\n",
      "         [0., 0., 0.],\n",
      "         [0., 0., 0.],\n",
      "         [0., 0., 0.],\n",
      "         [0., 0., 0.],\n",
      "         [0., 0., 0.],\n",
      "         [0., 0., 0.],\n",
      "         [0., 0., 0.],\n",
      "         [0., 0., 0.],\n",
      "         [0., 0., 0.],\n",
      "         [0., 0., 0.],\n",
      "         [0., 0., 0.],\n",
      "         [0., 0., 0.],\n",
      "         [0., 0., 0.],\n",
      "         [0., 0., 0.],\n",
      "         [0., 0., 0.],\n",
      "         [0., 0., 0.],\n",
      "         [0., 0., 0.]]])\n",
      "torch.Size([1, 54, 3])\n"
     ]
    }
   ],
   "source": [
    "import torch\n",
    "from phc.utils.torch_ballbot_batch import Ballbot_Batch, BALLBOT_ROTATION_AXIS\n",
    "from phc.utils.torch_h1_humanoid_batch import Humanoid_Batch, H1_ROTATION_AXIS\n",
    "dof_pos = torch.zeros((1, 50))\n",
    "print(dof_pos.shape)\n",
    "pose_aa_ballbot = torch.cat(\n",
    "    [\n",
    "        torch.zeros((1, 4, 3)),\n",
    "        BALLBOT_ROTATION_AXIS * dof_pos[..., None],\n",
    "    ],\n",
    "    axis=1,\n",
    ")\n",
    "print(pose_aa_ballbot)\n",
    "print(pose_aa_ballbot.shape)"
   ]
  },
  {
   "cell_type": "code",
   "execution_count": 6,
   "id": "75364f74",
   "metadata": {},
   "outputs": [
    {
     "name": "stdout",
     "output_type": "stream",
     "text": [
      "torch.Size([1, 1, 12, 3])\n"
     ]
    }
   ],
   "source": [
    "print(pose_aa_ballbot[None,].shape)"
   ]
  },
  {
   "cell_type": "code",
   "execution_count": 3,
   "id": "d9b65409",
   "metadata": {},
   "outputs": [
    {
     "name": "stdout",
     "output_type": "stream",
     "text": [
      "tensor([[[0., 0., 0.],\n",
      "         [0., 0., 0.],\n",
      "         [0., 0., 0.],\n",
      "         [0., 0., 0.],\n",
      "         [0., 0., 0.],\n",
      "         [0., 0., 0.],\n",
      "         [0., 0., 0.],\n",
      "         [0., 0., 0.],\n",
      "         [0., 0., 0.],\n",
      "         [0., 0., 0.],\n",
      "         [0., 0., 0.],\n",
      "         [0., 0., 0.],\n",
      "         [0., 0., 0.],\n",
      "         [0., 0., 0.],\n",
      "         [0., 0., 0.],\n",
      "         [0., 0., 0.],\n",
      "         [0., 0., 0.],\n",
      "         [0., 0., 0.],\n",
      "         [0., 0., 0.],\n",
      "         [0., 0., 0.],\n",
      "         [0., 0., 0.],\n",
      "         [0., 0., 0.]]])\n",
      "torch.Size([1, 22, 3])\n"
     ]
    }
   ],
   "source": [
    "dof_pos = torch.zeros((1, 19))\n",
    "pose_aa_h1 = torch.cat(\n",
    "    [\n",
    "        torch.zeros((1, 1, 3)),\n",
    "        H1_ROTATION_AXIS * dof_pos[..., None],\n",
    "        torch.zeros((1, 2, 3)),\n",
    "    ],\n",
    "    axis=1,\n",
    ")\n",
    "print(pose_aa_h1)\n",
    "print(pose_aa_h1.shape)"
   ]
  },
  {
   "cell_type": "code",
   "execution_count": 3,
   "id": "5df0f653",
   "metadata": {},
   "outputs": [
    {
     "name": "stdout",
     "output_type": "stream",
     "text": [
      "Bodies:\n",
      "Number of bodies: 55\n",
      "[0] world\n",
      "[1] base_link\n",
      "[2] torso_link\n",
      "[3] neck_link\n",
      "[4] head_link\n",
      "[5] right_shoulder_pitch_link\n",
      "[6] right_shoulder_roll_link\n",
      "[7] right_shoulder_yaw_link\n",
      "[8] right_elbow_link\n",
      "[9] right_hand_link\n",
      "[10] left_shoulder_pitch_link\n",
      "[11] left_shoulder_roll_link\n",
      "[12] left_shoulder_yaw_link\n",
      "[13] left_elbow_link\n",
      "[14] left_hand_link\n",
      "[15] axle_1_link\n",
      "[16] fat_roller_1_1_link\n",
      "[17] fat_roller_1_2_link\n",
      "[18] fat_roller_1_3_link\n",
      "[19] fat_roller_1_4_link\n",
      "[20] fat_roller_1_5_link\n",
      "[21] fat_roller_1_6_link\n",
      "[22] thin_roller_1_1_link\n",
      "[23] thin_roller_1_2_link\n",
      "[24] thin_roller_1_3_link\n",
      "[25] thin_roller_1_4_link\n",
      "[26] thin_roller_1_5_link\n",
      "[27] thin_roller_1_6_link\n",
      "[28] axle_2_link\n",
      "[29] fat_roller_2_1_link\n",
      "[30] fat_roller_2_2_link\n",
      "[31] fat_roller_2_3_link\n",
      "[32] fat_roller_2_4_link\n",
      "[33] fat_roller_2_5_link\n",
      "[34] fat_roller_2_6_link\n",
      "[35] thin_roller_2_1_link\n",
      "[36] thin_roller_2_2_link\n",
      "[37] thin_roller_2_3_link\n",
      "[38] thin_roller_2_4_link\n",
      "[39] thin_roller_2_5_link\n",
      "[40] thin_roller_2_6_link\n",
      "[41] axle_3_link\n",
      "[42] fat_roller_3_1_link\n",
      "[43] fat_roller_3_2_link\n",
      "[44] fat_roller_3_3_link\n",
      "[45] fat_roller_3_4_link\n",
      "[46] fat_roller_3_5_link\n",
      "[47] fat_roller_3_6_link\n",
      "[48] thin_roller_3_1_link\n",
      "[49] thin_roller_3_2_link\n",
      "[50] thin_roller_3_3_link\n",
      "[51] thin_roller_3_4_link\n",
      "[52] thin_roller_3_5_link\n",
      "[53] thin_roller_3_6_link\n",
      "[54] ball_link\n",
      "Joints:\n",
      "Number of joints: 51\n",
      "[0] floating_base_joint\n",
      "[1] neck_joint\n",
      "[2] head_joint\n",
      "[3] right_shoulder_pitch_joint\n",
      "[4] right_shoulder_roll_joint\n",
      "[5] right_shoulder_yaw_joint\n",
      "[6] right_elbow_joint\n",
      "[7] left_shoulder_pitch_joint\n",
      "[8] left_shoulder_roll_joint\n",
      "[9] left_shoulder_yaw_joint\n",
      "[10] left_elbow_joint\n",
      "[11] axle_1_joint\n",
      "[12] fat_roller_1_1_joint\n",
      "[13] fat_roller_1_2_joint\n",
      "[14] fat_roller_1_3_joint\n",
      "[15] fat_roller_1_4_joint\n",
      "[16] fat_roller_1_5_joint\n",
      "[17] fat_roller_1_6_joint\n",
      "[18] thin_roller_1_1_joint\n",
      "[19] thin_roller_1_2_joint\n",
      "[20] thin_roller_1_3_joint\n",
      "[21] thin_roller_1_4_joint\n",
      "[22] thin_roller_1_5_joint\n",
      "[23] thin_roller_1_6_joint\n",
      "[24] axle_2_joint\n",
      "[25] fat_roller_2_1_joint\n",
      "[26] fat_roller_2_2_joint\n",
      "[27] fat_roller_2_3_joint\n",
      "[28] fat_roller_2_4_joint\n",
      "[29] fat_roller_2_5_joint\n",
      "[30] fat_roller_2_6_joint\n",
      "[31] thin_roller_2_1_joint\n",
      "[32] thin_roller_2_2_joint\n",
      "[33] thin_roller_2_3_joint\n",
      "[34] thin_roller_2_4_joint\n",
      "[35] thin_roller_2_5_joint\n",
      "[36] thin_roller_2_6_joint\n",
      "[37] axle_3_joint\n",
      "[38] fat_roller_3_1_joint\n",
      "[39] fat_roller_3_2_joint\n",
      "[40] fat_roller_3_3_joint\n",
      "[41] fat_roller_3_4_joint\n",
      "[42] fat_roller_3_5_joint\n",
      "[43] fat_roller_3_6_joint\n",
      "[44] thin_roller_3_1_joint\n",
      "[45] thin_roller_3_2_joint\n",
      "[46] thin_roller_3_3_joint\n",
      "[47] thin_roller_3_4_joint\n",
      "[48] thin_roller_3_5_joint\n",
      "[49] thin_roller_3_6_joint\n",
      "[50] ball_joint\n"
     ]
    }
   ],
   "source": [
    "import mujoco\n",
    "import mujoco.viewer\n",
    "from mujoco import MjModel, MjData\n",
    "\n",
    "\n",
    "model = MjModel.from_xml_path(\"resources/robots/ballbot/ballbot.xml\")\n",
    "data = MjData(model)\n",
    "\n",
    "# body\n",
    "print(\"Bodies:\")\n",
    "print(f\"Number of bodies: {model.nbody}\")\n",
    "for i in range(model.nbody):\n",
    "    name = mujoco.mj_id2name(model, mujoco.mjtObj.mjOBJ_BODY, i)\n",
    "    print(f\"[{i}] {name}\")\n",
    "\n",
    "# joint\n",
    "print(\"Joints:\")\n",
    "print(f\"Number of joints: {model.njnt}\")\n",
    "for i in range(model.njnt):\n",
    "    name = mujoco.mj_id2name(model, mujoco.mjtObj.mjOBJ_JOINT, i)\n",
    "    print(f\"[{i}] {name}\")"
   ]
  },
  {
   "cell_type": "code",
   "execution_count": 2,
   "id": "be8cacd8",
   "metadata": {},
   "outputs": [
    {
     "data": {
      "text/plain": [
       "<mujoco.viewer.Handle at 0x74b3394cf580>"
      ]
     },
     "execution_count": 2,
     "metadata": {},
     "output_type": "execute_result"
    }
   ],
   "source": [
    "mujoco.viewer.launch_passive(model, data)"
   ]
  },
  {
   "cell_type": "code",
   "execution_count": 3,
   "id": "ea125e81",
   "metadata": {},
   "outputs": [
    {
     "name": "stdout",
     "output_type": "stream",
     "text": [
      "[0] floating_base_joint\n",
      "[1] left_hip_yaw_joint\n",
      "[2] left_hip_roll_joint\n",
      "[3] left_hip_pitch_joint\n",
      "[4] left_knee_joint\n",
      "[5] left_ankle_joint\n",
      "[6] right_hip_yaw_joint\n",
      "[7] right_hip_roll_joint\n",
      "[8] right_hip_pitch_joint\n",
      "[9] right_knee_joint\n",
      "[10] right_ankle_joint\n",
      "[11] torso_joint\n",
      "[12] left_shoulder_pitch_joint\n",
      "[13] left_shoulder_roll_joint\n",
      "[14] left_shoulder_yaw_joint\n",
      "[15] left_elbow_joint\n",
      "[16] right_shoulder_pitch_joint\n",
      "[17] right_shoulder_roll_joint\n",
      "[18] right_shoulder_yaw_joint\n",
      "[19] right_elbow_joint\n"
     ]
    }
   ],
   "source": [
    "model = MjModel.from_xml_path(\"resources/robots/h1/h1.xml\")\n",
    "data = MjData(model)\n",
    "\n",
    "for i in range(model.njnt):\n",
    "    name = mujoco.mj_id2name(model, mujoco.mjtObj.mjOBJ_JOINT, i)\n",
    "    print(f\"[{i}] {name}\")"
   ]
  },
  {
   "cell_type": "code",
   "execution_count": 4,
   "id": "c07e90e6",
   "metadata": {},
   "outputs": [
    {
     "data": {
      "text/plain": [
       "<mujoco.viewer.Handle at 0x70bcefe34f10>"
      ]
     },
     "execution_count": 4,
     "metadata": {},
     "output_type": "execute_result"
    }
   ],
   "source": [
    "mujoco.viewer.launch_passive(model, data)"
   ]
  }
 ],
 "metadata": {
  "kernelspec": {
   "display_name": "omnih2o",
   "language": "python",
   "name": "python3"
  },
  "language_info": {
   "codemirror_mode": {
    "name": "ipython",
    "version": 3
   },
   "file_extension": ".py",
   "mimetype": "text/x-python",
   "name": "python",
   "nbconvert_exporter": "python",
   "pygments_lexer": "ipython3",
   "version": "3.8.20"
  }
 },
 "nbformat": 4,
 "nbformat_minor": 5
}
