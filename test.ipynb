{
 "cells": [
  {
   "cell_type": "code",
   "execution_count": 26,
   "id": "555b11e7",
   "metadata": {},
   "outputs": [
    {
     "name": "stdout",
     "output_type": "stream",
     "text": [
      "torch.Size([1, 49])\n",
      "tensor([[[0., 0., 0.],\n",
      "         [0., 0., 0.],\n",
      "         [0., 0., 0.],\n",
      "         [0., 0., 0.],\n",
      "         [0., 0., 0.],\n",
      "         [0., 0., 0.],\n",
      "         [0., 0., 0.],\n",
      "         [0., 0., 0.],\n",
      "         [0., 0., 0.],\n",
      "         [0., 0., 0.],\n",
      "         [0., 0., 0.],\n",
      "         [0., 0., 0.],\n",
      "         [0., 0., 0.],\n",
      "         [0., 0., 0.],\n",
      "         [0., 0., 0.],\n",
      "         [0., 0., 0.],\n",
      "         [0., 0., 0.],\n",
      "         [0., 0., 0.],\n",
      "         [0., 0., 0.],\n",
      "         [0., 0., 0.],\n",
      "         [0., 0., 0.],\n",
      "         [0., 0., 0.],\n",
      "         [0., 0., 0.],\n",
      "         [0., 0., 0.],\n",
      "         [0., 0., 0.],\n",
      "         [0., 0., 0.],\n",
      "         [0., 0., 0.],\n",
      "         [0., 0., 0.],\n",
      "         [0., 0., 0.],\n",
      "         [0., 0., 0.],\n",
      "         [0., 0., 0.],\n",
      "         [0., 0., 0.],\n",
      "         [0., 0., 0.],\n",
      "         [0., 0., 0.],\n",
      "         [0., 0., 0.],\n",
      "         [0., 0., 0.],\n",
      "         [0., 0., 0.],\n",
      "         [0., 0., 0.],\n",
      "         [0., 0., 0.],\n",
      "         [0., 0., 0.],\n",
      "         [0., 0., 0.],\n",
      "         [0., 0., 0.],\n",
      "         [0., 0., 0.],\n",
      "         [0., 0., 0.],\n",
      "         [0., 0., 0.],\n",
      "         [0., 0., 0.],\n",
      "         [0., 0., 0.],\n",
      "         [0., 0., 0.],\n",
      "         [0., 0., 0.],\n",
      "         [0., 0., 0.],\n",
      "         [0., 0., 0.],\n",
      "         [0., 0., 0.],\n",
      "         [0., 0., 0.]]])\n",
      "torch.Size([1, 53, 3])\n"
     ]
    }
   ],
   "source": [
    "import torch\n",
    "from phc.utils.torch_ballbot_batch import Ballbot_Batch, BALLBOT_ROTATION_AXIS\n",
    "from phc.utils.torch_h1_humanoid_batch import Humanoid_Batch, H1_ROTATION_AXIS\n",
    "dof_pos = torch.zeros((1, 49))\n",
    "print(dof_pos.shape)\n",
    "pose_aa_ballbot = torch.cat(\n",
    "    [\n",
    "        torch.zeros((1, 4, 3)),\n",
    "        BALLBOT_ROTATION_AXIS * dof_pos[..., None],\n",
    "    ],\n",
    "    axis=1,\n",
    ")\n",
    "print(pose_aa_ballbot)\n",
    "print(pose_aa_ballbot.shape)"
   ]
  },
  {
   "cell_type": "code",
   "execution_count": 6,
   "id": "75364f74",
   "metadata": {},
   "outputs": [
    {
     "name": "stdout",
     "output_type": "stream",
     "text": [
      "torch.Size([1, 1, 12, 3])\n"
     ]
    }
   ],
   "source": [
    "print(pose_aa_ballbot[None,].shape)"
   ]
  },
  {
   "cell_type": "code",
   "execution_count": 3,
   "id": "d9b65409",
   "metadata": {},
   "outputs": [
    {
     "name": "stdout",
     "output_type": "stream",
     "text": [
      "tensor([[[0., 0., 0.],\n",
      "         [0., 0., 0.],\n",
      "         [0., 0., 0.],\n",
      "         [0., 0., 0.],\n",
      "         [0., 0., 0.],\n",
      "         [0., 0., 0.],\n",
      "         [0., 0., 0.],\n",
      "         [0., 0., 0.],\n",
      "         [0., 0., 0.],\n",
      "         [0., 0., 0.],\n",
      "         [0., 0., 0.],\n",
      "         [0., 0., 0.],\n",
      "         [0., 0., 0.],\n",
      "         [0., 0., 0.],\n",
      "         [0., 0., 0.],\n",
      "         [0., 0., 0.],\n",
      "         [0., 0., 0.],\n",
      "         [0., 0., 0.],\n",
      "         [0., 0., 0.],\n",
      "         [0., 0., 0.],\n",
      "         [0., 0., 0.],\n",
      "         [0., 0., 0.]]])\n",
      "torch.Size([1, 22, 3])\n"
     ]
    }
   ],
   "source": [
    "dof_pos = torch.zeros((1, 19))\n",
    "pose_aa_h1 = torch.cat(\n",
    "    [\n",
    "        torch.zeros((1, 1, 3)),\n",
    "        H1_ROTATION_AXIS * dof_pos[..., None],\n",
    "        torch.zeros((1, 2, 3)),\n",
    "    ],\n",
    "    axis=1,\n",
    ")\n",
    "print(pose_aa_h1)\n",
    "print(pose_aa_h1.shape)"
   ]
  },
  {
   "cell_type": "code",
   "execution_count": 21,
   "id": "f825c2f5",
   "metadata": {},
   "outputs": [],
   "source": [
    "from scipy.spatial.transform import Rotation as sRot\n",
    "import numpy as np\n",
    "def euler_to_quat(euler):\n",
    "    quat = sRot.from_euler(\"XYZ\", euler, degrees=False).as_quat()\n",
    "    # scalar first\n",
    "    quat = np.concatenate([quat[3:], quat[:3]])\n",
    "    return quat"
   ]
  },
  {
   "cell_type": "code",
   "execution_count": 22,
   "id": "ffaeb06d",
   "metadata": {},
   "outputs": [
    {
     "name": "stdout",
     "output_type": "stream",
     "text": [
      "[ 3.35675014e-11  3.35675406e-11 -7.07106781e-01  7.07106781e-01]\n"
     ]
    }
   ],
   "source": [
    "euler = [1.5707963267948966, 5.551117636150458e-17, 3.14159265349485]\n",
    "print(euler_to_quat(euler))"
   ]
  },
  {
   "cell_type": "code",
   "execution_count": 42,
   "id": "5df0f653",
   "metadata": {},
   "outputs": [
    {
     "name": "stdout",
     "output_type": "stream",
     "text": [
      "Bodies:\n",
      "Number of bodies: 47\n",
      "[0] world\n",
      "[1] base_link\n",
      "[2] torso_link\n",
      "[3] left_shoulder_pitch_link\n",
      "[4] left_shoulder_roll_link\n",
      "[5] left_shoulder_yaw_link\n",
      "[6] left_elbow_link\n",
      "[7] right_shoulder_pitch_link\n",
      "[8] right_shoulder_roll_link\n",
      "[9] right_shoulder_yaw_link\n",
      "[10] right_elbow_link\n",
      "[11] neck_link\n",
      "[12] head_link\n",
      "[13] wheel_base_1_link\n",
      "[14] small_roller_1_1_link\n",
      "[15] large_roller_1_1_link\n",
      "[16] small_roller_1_2_link\n",
      "[17] large_roller_1_2_link\n",
      "[18] small_roller_1_3_link\n",
      "[19] large_roller_1_3_link\n",
      "[20] small_roller_1_4_link\n",
      "[21] large_roller_1_4_link\n",
      "[22] small_roller_1_5_link\n",
      "[23] large_roller_1_5_link\n",
      "[24] wheel_base_2_link\n",
      "[25] small_roller_2_1_link\n",
      "[26] large_roller_2_1_link\n",
      "[27] small_roller_2_2_link\n",
      "[28] large_roller_2_2_link\n",
      "[29] small_roller_2_3_link\n",
      "[30] large_roller_2_3_link\n",
      "[31] small_roller_2_4_link\n",
      "[32] large_roller_2_4_link\n",
      "[33] small_roller_2_5_link\n",
      "[34] large_roller_2_5_link\n",
      "[35] wheel_base_3_link\n",
      "[36] small_roller_3_1_link\n",
      "[37] large_roller_3_1_link\n",
      "[38] small_roller_3_2_link\n",
      "[39] large_roller_3_2_link\n",
      "[40] small_roller_3_3_link\n",
      "[41] large_roller_3_3_link\n",
      "[42] small_roller_3_4_link\n",
      "[43] large_roller_3_4_link\n",
      "[44] small_roller_3_5_link\n",
      "[45] large_roller_3_5_link\n",
      "[46] ball_link\n",
      "Joints:\n",
      "Number of joints: 45\n",
      "[0] floating_base_joint\n",
      "[1] left_shoulder_pitch_joint\n",
      "[2] left_shoulder_roll_joint\n",
      "[3] left_shoulder_yaw_joint\n",
      "[4] left_elbow_joint\n",
      "[5] right_shoulder_pitch_joint\n",
      "[6] right_shoulder_roll_joint\n",
      "[7] right_shoulder_yaw_joint\n",
      "[8] right_elbow_joint\n",
      "[9] neck_joint\n",
      "[10] head_joint\n",
      "[11] wheel_base_1_joint\n",
      "[12] small_roller_1_1_joint\n",
      "[13] large_roller_1_1_joint\n",
      "[14] small_roller_1_2_joint\n",
      "[15] large_roller_1_2_joint\n",
      "[16] small_roller_1_3_joint\n",
      "[17] large_roller_1_3_joint\n",
      "[18] small_roller_1_4_joint\n",
      "[19] large_roller_1_4_joint\n",
      "[20] small_roller_1_5_joint\n",
      "[21] large_roller_1_5_joint\n",
      "[22] wheel_base_2_joint\n",
      "[23] small_roller_2_1_joint\n",
      "[24] large_roller_2_1_joint\n",
      "[25] small_roller_2_2_joint\n",
      "[26] large_roller_2_2_joint\n",
      "[27] small_roller_2_3_joint\n",
      "[28] large_roller_2_3_joint\n",
      "[29] small_roller_2_4_joint\n",
      "[30] large_roller_2_4_joint\n",
      "[31] small_roller_2_5_joint\n",
      "[32] large_roller_2_5_joint\n",
      "[33] wheel_base_3_joint\n",
      "[34] small_roller_3_1_joint\n",
      "[35] large_roller_3_1_joint\n",
      "[36] small_roller_3_2_joint\n",
      "[37] large_roller_3_2_joint\n",
      "[38] small_roller_3_3_joint\n",
      "[39] large_roller_3_3_joint\n",
      "[40] small_roller_3_4_joint\n",
      "[41] large_roller_3_4_joint\n",
      "[42] small_roller_3_5_joint\n",
      "[43] large_roller_3_5_joint\n",
      "[44] ball_joint\n"
     ]
    }
   ],
   "source": [
    "import mujoco\n",
    "import mujoco.viewer\n",
    "from mujoco import MjModel, MjData\n",
    "\n",
    "\n",
    "model = MjModel.from_xml_path(\"resources/robots/ballbot/ballbot.xml\")\n",
    "data = MjData(model)\n",
    "\n",
    "# body\n",
    "print(\"Bodies:\")\n",
    "print(f\"Number of bodies: {model.nbody}\")\n",
    "for i in range(model.nbody):\n",
    "    name = mujoco.mj_id2name(model, mujoco.mjtObj.mjOBJ_BODY, i)\n",
    "    print(f\"[{i}] {name}\")\n",
    "\n",
    "# joint\n",
    "print(\"Joints:\")\n",
    "print(f\"Number of joints: {model.njnt}\")\n",
    "for i in range(model.njnt):\n",
    "    name = mujoco.mj_id2name(model, mujoco.mjtObj.mjOBJ_JOINT, i)\n",
    "    print(f\"[{i}] {name}\")"
   ]
  },
  {
   "cell_type": "code",
   "execution_count": 43,
   "id": "be8cacd8",
   "metadata": {},
   "outputs": [
    {
     "data": {
      "text/plain": [
       "<mujoco.viewer.Handle at 0x7fe28bd45280>"
      ]
     },
     "execution_count": 43,
     "metadata": {},
     "output_type": "execute_result"
    }
   ],
   "source": [
    "mujoco.viewer.launch_passive(model, data)"
   ]
  },
  {
   "cell_type": "code",
   "execution_count": 36,
   "id": "ea125e81",
   "metadata": {},
   "outputs": [
    {
     "name": "stdout",
     "output_type": "stream",
     "text": [
      "[0] floating_base_joint\n",
      "[1] left_hip_yaw_joint\n",
      "[2] left_hip_roll_joint\n",
      "[3] left_hip_pitch_joint\n",
      "[4] left_knee_joint\n",
      "[5] left_ankle_joint\n",
      "[6] right_hip_yaw_joint\n",
      "[7] right_hip_roll_joint\n",
      "[8] right_hip_pitch_joint\n",
      "[9] right_knee_joint\n",
      "[10] right_ankle_joint\n",
      "[11] torso_joint\n",
      "[12] left_shoulder_pitch_joint\n",
      "[13] left_shoulder_roll_joint\n",
      "[14] left_shoulder_yaw_joint\n",
      "[15] left_elbow_joint\n",
      "[16] right_shoulder_pitch_joint\n",
      "[17] right_shoulder_roll_joint\n",
      "[18] right_shoulder_yaw_joint\n",
      "[19] right_elbow_joint\n"
     ]
    }
   ],
   "source": [
    "model = MjModel.from_xml_path(\"resources/robots/h1/h1.xml\")\n",
    "data = MjData(model)\n",
    "\n",
    "for i in range(model.njnt):\n",
    "    name = mujoco.mj_id2name(model, mujoco.mjtObj.mjOBJ_JOINT, i)\n",
    "    print(f\"[{i}] {name}\")"
   ]
  },
  {
   "cell_type": "code",
   "execution_count": 4,
   "id": "c07e90e6",
   "metadata": {},
   "outputs": [
    {
     "data": {
      "text/plain": [
       "<mujoco.viewer.Handle at 0x70bcefe34f10>"
      ]
     },
     "execution_count": 4,
     "metadata": {},
     "output_type": "execute_result"
    }
   ],
   "source": [
    "mujoco.viewer.launch_passive(model, data)"
   ]
  }
 ],
 "metadata": {
  "kernelspec": {
   "display_name": "omnih2o",
   "language": "python",
   "name": "python3"
  },
  "language_info": {
   "codemirror_mode": {
    "name": "ipython",
    "version": 3
   },
   "file_extension": ".py",
   "mimetype": "text/x-python",
   "name": "python",
   "nbconvert_exporter": "python",
   "pygments_lexer": "ipython3",
   "version": "3.8.20"
  }
 },
 "nbformat": 4,
 "nbformat_minor": 5
}
